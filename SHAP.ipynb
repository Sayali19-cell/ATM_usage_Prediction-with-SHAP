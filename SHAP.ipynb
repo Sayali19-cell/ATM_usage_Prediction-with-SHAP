{
 "cells": [
  {
   "cell_type": "code",
   "execution_count": 3,
   "id": "ce0143e4-55a3-4ef0-aea1-94eb34647960",
   "metadata": {},
   "outputs": [
    {
     "name": "stdout",
     "output_type": "stream",
     "text": [
      "Defaulting to user installation because normal site-packages is not writeable\n",
      "Looking in links: /usr/share/pip-wheels\n",
      "Requirement already satisfied: shap in /home/be826b72-86ae-42af-a1d5-60dbcb273e36/.local/lib/python3.10/site-packages (0.47.0)\n",
      "Requirement already satisfied: matplotlib in /opt/conda/envs/anaconda-2024.02-py310/lib/python3.10/site-packages (3.8.0)\n",
      "Requirement already satisfied: numpy in /opt/conda/envs/anaconda-2024.02-py310/lib/python3.10/site-packages (from shap) (1.26.4)\n",
      "Requirement already satisfied: scipy in /opt/conda/envs/anaconda-2024.02-py310/lib/python3.10/site-packages (from shap) (1.12.0)\n",
      "Requirement already satisfied: scikit-learn in /opt/conda/envs/anaconda-2024.02-py310/lib/python3.10/site-packages (from shap) (1.3.0)\n",
      "Requirement already satisfied: pandas in /opt/conda/envs/anaconda-2024.02-py310/lib/python3.10/site-packages (from shap) (2.1.4)\n",
      "Requirement already satisfied: tqdm>=4.27.0 in /opt/conda/envs/anaconda-2024.02-py310/lib/python3.10/site-packages (from shap) (4.65.0)\n",
      "Requirement already satisfied: packaging>20.9 in /opt/conda/envs/anaconda-2024.02-py310/lib/python3.10/site-packages (from shap) (23.2)\n",
      "Requirement already satisfied: slicer==0.0.8 in /home/be826b72-86ae-42af-a1d5-60dbcb273e36/.local/lib/python3.10/site-packages (from shap) (0.0.8)\n",
      "Requirement already satisfied: numba>=0.54 in /opt/conda/envs/anaconda-2024.02-py310/lib/python3.10/site-packages (from shap) (0.59.1)\n",
      "Requirement already satisfied: cloudpickle in /opt/conda/envs/anaconda-2024.02-py310/lib/python3.10/site-packages (from shap) (2.2.1)\n",
      "Requirement already satisfied: typing-extensions in /opt/conda/envs/anaconda-2024.02-py310/lib/python3.10/site-packages (from shap) (4.9.0)\n",
      "Requirement already satisfied: contourpy>=1.0.1 in /opt/conda/envs/anaconda-2024.02-py310/lib/python3.10/site-packages (from matplotlib) (1.2.0)\n",
      "Requirement already satisfied: cycler>=0.10 in /opt/conda/envs/anaconda-2024.02-py310/lib/python3.10/site-packages (from matplotlib) (0.11.0)\n",
      "Requirement already satisfied: fonttools>=4.22.0 in /opt/conda/envs/anaconda-2024.02-py310/lib/python3.10/site-packages (from matplotlib) (4.25.0)\n",
      "Requirement already satisfied: kiwisolver>=1.0.1 in /opt/conda/envs/anaconda-2024.02-py310/lib/python3.10/site-packages (from matplotlib) (1.4.4)\n",
      "Requirement already satisfied: pillow>=6.2.0 in /opt/conda/envs/anaconda-2024.02-py310/lib/python3.10/site-packages (from matplotlib) (10.2.0)\n",
      "Requirement already satisfied: pyparsing>=2.3.1 in /opt/conda/envs/anaconda-2024.02-py310/lib/python3.10/site-packages (from matplotlib) (3.0.9)\n",
      "Requirement already satisfied: python-dateutil>=2.7 in /opt/conda/envs/anaconda-2024.02-py310/lib/python3.10/site-packages (from matplotlib) (2.8.2)\n",
      "Requirement already satisfied: llvmlite<0.43,>=0.42.0dev0 in /opt/conda/envs/anaconda-2024.02-py310/lib/python3.10/site-packages (from numba>=0.54->shap) (0.42.0)\n",
      "Requirement already satisfied: six>=1.5 in /opt/conda/envs/anaconda-2024.02-py310/lib/python3.10/site-packages (from python-dateutil>=2.7->matplotlib) (1.16.0)\n",
      "Requirement already satisfied: pytz>=2020.1 in /opt/conda/envs/anaconda-2024.02-py310/lib/python3.10/site-packages (from pandas->shap) (2023.3.post1)\n",
      "Requirement already satisfied: tzdata>=2022.1 in /opt/conda/envs/anaconda-2024.02-py310/lib/python3.10/site-packages (from pandas->shap) (2023.3)\n",
      "Requirement already satisfied: joblib>=1.1.1 in /opt/conda/envs/anaconda-2024.02-py310/lib/python3.10/site-packages (from scikit-learn->shap) (1.2.0)\n",
      "Requirement already satisfied: threadpoolctl>=2.0.0 in /opt/conda/envs/anaconda-2024.02-py310/lib/python3.10/site-packages (from scikit-learn->shap) (2.2.0)\n",
      "Note: you may need to restart the kernel to use updated packages.\n"
     ]
    }
   ],
   "source": [
    "pip install shap matplotlib\n"
   ]
  },
  {
   "cell_type": "code",
   "execution_count": 5,
   "id": "ef781019-e561-433e-b214-104b2f9a0283",
   "metadata": {},
   "outputs": [
    {
     "name": "stdout",
     "output_type": "stream",
     "text": [
      "🔍 Running SHAP KernelExplainer...\n"
     ]
    },
    {
     "name": "stderr",
     "output_type": "stream",
     "text": [
      "/opt/conda/envs/anaconda-2024.02-py310/lib/python3.10/site-packages/joblib/externals/loky/backend/context.py:110: UserWarning: Could not find the number of physical cores for the following reason:\n",
      "found 0 physical cores < 1\n",
      "Returning the number of logical cores instead. You can silence this warning by setting LOKY_MAX_CPU_COUNT to the number of cores you want to use.\n",
      "  warnings.warn(\n",
      "  File \"/opt/conda/envs/anaconda-2024.02-py310/lib/python3.10/site-packages/joblib/externals/loky/backend/context.py\", line 217, in _count_physical_cores\n",
      "    raise ValueError(\n"
     ]
    },
    {
     "data": {
      "application/vnd.jupyter.widget-view+json": {
       "model_id": "26e9bbb8f6124cb5a5583d081f7a255a",
       "version_major": 2,
       "version_minor": 0
      },
      "text/plain": [
       "  0%|          | 0/50 [00:00<?, ?it/s]"
      ]
     },
     "metadata": {},
     "output_type": "display_data"
    },
    {
     "name": "stdout",
     "output_type": "stream",
     "text": [
      "SHAP plots saved: shap_summary_bar.png, shap_summary.png\n"
     ]
    }
   ],
   "source": [
    "import pandas as pd\n",
    "import numpy as np\n",
    "import shap\n",
    "import matplotlib.pyplot as plt\n",
    "from sklearn.model_selection import train_test_split, GridSearchCV\n",
    "from sklearn.neighbors import KNeighborsClassifier\n",
    "from sklearn.preprocessing import StandardScaler\n",
    "\n",
    "# Load dataset\n",
    "df = pd.read_csv(\"atm_pune_dataset.csv\")\n",
    "df[\"Shutdown_Label\"] = ((df[\"Monthly_Transactions\"] < 200) | (df[\"Last_Used_Days_Ago\"] > 60)).astype(int)\n",
    "\n",
    "# One-hot encode\n",
    "df_model = pd.get_dummies(df.copy(), columns=[\"Location\", \"Area_Type\"], drop_first=True)\n",
    "X = df_model.drop(columns=[\"ATM_ID\", \"City\", \"ATM_Status\", \"Shutdown_Label\"])\n",
    "y = df_model[\"Shutdown_Label\"]\n",
    "\n",
    "# Train-test split\n",
    "X_train, X_test, y_train, y_test = train_test_split(X, y, test_size=0.2, stratify=y, random_state=42)\n",
    "\n",
    "# Scale features\n",
    "scaler = StandardScaler()\n",
    "X_train_scaled = scaler.fit_transform(X_train)\n",
    "X_test_scaled = scaler.transform(X_test)\n",
    "\n",
    "# Tune and fit KNN\n",
    "param_grid = {'n_neighbors': list(range(3, 21, 2)), 'weights': ['uniform', 'distance']}\n",
    "grid = GridSearchCV(KNeighborsClassifier(), param_grid, cv=5, scoring='f1', n_jobs=-1)\n",
    "grid.fit(X_train_scaled, y_train)\n",
    "best_knn = grid.best_estimator_\n",
    "\n",
    "# SHAP with KernelExplainer (CPU-friendly)\n",
    "print(\"🔍 Running SHAP KernelExplainer...\")\n",
    "explainer = shap.KernelExplainer(best_knn.predict, X_train_scaled[:100])\n",
    "shap_values = explainer.shap_values(X_test_scaled[:50])  # limited for speed\n",
    "\n",
    "# Summary bar plot\n",
    "shap.summary_plot(shap_values, X_test.iloc[:50], plot_type=\"bar\", show=False)\n",
    "plt.tight_layout()\n",
    "plt.savefig(\"shap_summary_bar.png\")\n",
    "plt.close()\n",
    "\n",
    "# Full summary plot\n",
    "shap.summary_plot(shap_values, X_test.iloc[:50], show=False)\n",
    "plt.tight_layout()\n",
    "plt.savefig(\"shap_summary.png\")\n",
    "plt.close()\n",
    "\n",
    "print(\"SHAP plots saved: shap_summary_bar.png, shap_summary.png\")\n"
   ]
  },
  {
   "cell_type": "code",
   "execution_count": null,
   "id": "88776cd4-7b04-4baf-a6c5-92801be6c593",
   "metadata": {},
   "outputs": [],
   "source": []
  }
 ],
 "metadata": {
  "kernelspec": {
   "display_name": "anaconda-2024.02-py310",
   "language": "python",
   "name": "conda-env-anaconda-2024.02-py310-py"
  },
  "language_info": {
   "codemirror_mode": {
    "name": "ipython",
    "version": 3
   },
   "file_extension": ".py",
   "mimetype": "text/x-python",
   "name": "python",
   "nbconvert_exporter": "python",
   "pygments_lexer": "ipython3",
   "version": "3.10.14"
  }
 },
 "nbformat": 4,
 "nbformat_minor": 5
}
