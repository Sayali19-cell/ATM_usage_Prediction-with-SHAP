{
 "cells": [
  {
   "cell_type": "code",
   "execution_count": 7,
   "id": "ad159093-c3d6-4450-9d8a-292d7662ef7b",
   "metadata": {},
   "outputs": [
    {
     "name": "stdout",
     "output_type": "stream",
     "text": [
      "Dataset 'atm_pune_dataset.csv' generated with 10,000 entries.\n"
     ]
    }
   ],
   "source": [
    "import pandas as pd\n",
    "import numpy as np\n",
    "import random\n",
    "\n",
    "# Define sample locations and coordinates (Pune)\n",
    "locations = [\n",
    "    (\"Shivaji Nagar\", 18.5300, 73.8500),\n",
    "    (\"Kothrud\", 18.5074, 73.8077),\n",
    "    (\"Viman Nagar\", 18.5679, 73.9143),\n",
    "    (\"Hadapsar\", 18.5089, 73.9235),\n",
    "    (\"Hinjewadi\", 18.5911, 73.7389),\n",
    "    (\"Baner\", 18.5590, 73.7862),\n",
    "    (\"Swargate\", 18.5018, 73.8636),\n",
    "    (\"Aundh\", 18.5579, 73.8077),\n",
    "    (\"Yerwada\", 18.5626, 73.8770),\n",
    "    (\"Camp\", 18.5167, 73.8567),\n",
    "]\n",
    "\n",
    "area_types = [\"Commercial\", \"Residential\", \"Mixed\", \"IT Hub\"]\n",
    "\n",
    "# Number of records\n",
    "num_entries = 10000\n",
    "data = []\n",
    "\n",
    "# Generate dummy entries\n",
    "for i in range(num_entries):\n",
    "    atm_id = f\"ATM{i:05d}\"\n",
    "    loc = random.choice(locations)\n",
    "    area = random.choice(area_types)\n",
    "    \n",
    "    # Transaction volume follows a skewed distribution\n",
    "    transactions = max(0, int(np.random.normal(loc=1000, scale=1500)))\n",
    "    \n",
    "    # Withdrawals between 500 and 8000\n",
    "    avg_withdrawal = max(500, int(np.random.normal(loc=3000, scale=800)))\n",
    "    \n",
    "    # Recent vs old usage\n",
    "    last_used_days = max(0, int(np.random.exponential(scale=30)))\n",
    "    \n",
    "    data.append([\n",
    "        atm_id, loc[0], loc[1], loc[2], area, \"Pune\",\n",
    "        transactions, avg_withdrawal, \"Active\", last_used_days\n",
    "    ])\n",
    "\n",
    "# Column names\n",
    "columns = [\n",
    "    \"ATM_ID\", \"Location\", \"Latitude\", \"Longitude\", \"Area_Type\", \"City\",\n",
    "    \"Monthly_Transactions\", \"Avg_Withdrawal_Amount\", \"ATM_Status\", \"Last_Used_Days_Ago\"\n",
    "]\n",
    "\n",
    "# Create DataFrame and save to CSV\n",
    "atm_df = pd.DataFrame(data, columns=columns)\n",
    "atm_df.to_csv(\"atm_pune_dataset.csv\", index=False)\n",
    "\n",
    "print(\"Dataset 'atm_pune_dataset.csv' generated with 10,000 entries.\")\n"
   ]
  },
  {
   "cell_type": "code",
   "execution_count": null,
   "id": "9d93a742-b43b-4235-8ecf-7141a10f3db6",
   "metadata": {},
   "outputs": [],
   "source": []
  }
 ],
 "metadata": {
  "kernelspec": {
   "display_name": "anaconda-panel-2023.05-py310",
   "language": "python",
   "name": "conda-env-anaconda-panel-2023.05-py310-py"
  },
  "language_info": {
   "codemirror_mode": {
    "name": "ipython",
    "version": 3
   },
   "file_extension": ".py",
   "mimetype": "text/x-python",
   "name": "python",
   "nbconvert_exporter": "python",
   "pygments_lexer": "ipython3",
   "version": "3.11.5"
  }
 },
 "nbformat": 4,
 "nbformat_minor": 5
}
