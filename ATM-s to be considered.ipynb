{
 "cells": [
  {
   "cell_type": "code",
   "execution_count": 14,
   "id": "287c1e95-880c-4bfa-8de8-4ab159f32a40",
   "metadata": {},
   "outputs": [
    {
     "name": "stdout",
     "output_type": "stream",
     "text": [
      "Defaulting to user installation because normal site-packages is not writeable\n",
      "Looking in links: /usr/share/pip-wheels\n",
      "Collecting folium\n",
      "  Downloading folium-0.19.6-py2.py3-none-any.whl.metadata (4.1 kB)\n",
      "Collecting branca>=0.6.0 (from folium)\n",
      "  Downloading branca-0.8.1-py3-none-any.whl.metadata (1.5 kB)\n",
      "Requirement already satisfied: jinja2>=2.9 in /opt/conda/envs/anaconda-2024.02-py310/lib/python3.10/site-packages (from folium) (3.1.3)\n",
      "Requirement already satisfied: numpy in /opt/conda/envs/anaconda-2024.02-py310/lib/python3.10/site-packages (from folium) (1.26.4)\n",
      "Requirement already satisfied: requests in /opt/conda/envs/anaconda-2024.02-py310/lib/python3.10/site-packages (from folium) (2.31.0)\n",
      "Requirement already satisfied: xyzservices in /opt/conda/envs/anaconda-2024.02-py310/lib/python3.10/site-packages (from folium) (2022.9.0)\n",
      "Requirement already satisfied: MarkupSafe>=2.0 in /opt/conda/envs/anaconda-2024.02-py310/lib/python3.10/site-packages (from jinja2>=2.9->folium) (2.1.3)\n",
      "Requirement already satisfied: charset-normalizer<4,>=2 in /opt/conda/envs/anaconda-2024.02-py310/lib/python3.10/site-packages (from requests->folium) (2.0.4)\n",
      "Requirement already satisfied: idna<4,>=2.5 in /opt/conda/envs/anaconda-2024.02-py310/lib/python3.10/site-packages (from requests->folium) (3.4)\n",
      "Requirement already satisfied: urllib3<3,>=1.21.1 in /opt/conda/envs/anaconda-2024.02-py310/lib/python3.10/site-packages (from requests->folium) (2.0.7)\n",
      "Requirement already satisfied: certifi>=2017.4.17 in /opt/conda/envs/anaconda-2024.02-py310/lib/python3.10/site-packages (from requests->folium) (2024.2.2)\n",
      "Downloading folium-0.19.6-py2.py3-none-any.whl (112 kB)\n",
      "\u001b[2K   \u001b[38;5;70m━━━━━━━━━━━━━━━━━━━━━━━━━━━━━━━━━━━━━━━━\u001b[0m \u001b[32m112.5/112.5 kB\u001b[0m \u001b[31m1.8 MB/s\u001b[0m eta \u001b[36m0:00:00\u001b[0m.0 MB/s\u001b[0m eta \u001b[36m0:00:01\u001b[0m\n",
      "\u001b[?25hDownloading branca-0.8.1-py3-none-any.whl (26 kB)\n",
      "Installing collected packages: branca, folium\n",
      "Successfully installed branca-0.8.1 folium-0.19.6\n",
      "Note: you may need to restart the kernel to use updated packages.\n"
     ]
    }
   ],
   "source": [
    "pip install folium"
   ]
  },
  {
   "cell_type": "code",
   "execution_count": 15,
   "id": "1d7f306a-216e-42aa-9097-6217908fac82",
   "metadata": {},
   "outputs": [
    {
     "name": "stdout",
     "output_type": "stream",
     "text": [
      "Done. Files created:\n",
      "- predicted_atms_to_shutdown.csv\n",
      "- knn_classification_report.csv\n",
      "- atm_shutdown_map.html\n"
     ]
    }
   ],
   "source": [
    "import pandas as pd\n",
    "import numpy as np\n",
    "from sklearn.model_selection import train_test_split, GridSearchCV\n",
    "from sklearn.neighbors import KNeighborsClassifier\n",
    "from sklearn.preprocessing import StandardScaler\n",
    "from sklearn.metrics import classification_report\n",
    "import folium\n",
    "from folium.plugins import MarkerCluster\n",
    "\n",
    "# Load dataset\n",
    "df = pd.read_csv(\"atm_pune_dataset.csv\")\n",
    "\n",
    "# Create shutdown label\n",
    "df[\"Shutdown_Label\"] = ((df[\"Monthly_Transactions\"] < 200) | (df[\"Last_Used_Days_Ago\"] > 60)).astype(int)\n",
    "\n",
    "# Feature engineering: One-hot encoding\n",
    "df_model = pd.get_dummies(df.copy(), columns=[\"Location\", \"Area_Type\"], drop_first=True)\n",
    "\n",
    "# Define features and target\n",
    "X = df_model.drop(columns=[\"ATM_ID\", \"City\", \"ATM_Status\", \"Shutdown_Label\"])\n",
    "y = df_model[\"Shutdown_Label\"]\n",
    "\n",
    "# Train-test split\n",
    "X_train, X_test, y_train, y_test, df_train, df_test = train_test_split(\n",
    "    X, y, df, test_size=0.2, random_state=42, stratify=y\n",
    ")\n",
    "\n",
    "# Feature scaling\n",
    "scaler = StandardScaler()\n",
    "X_train_scaled = scaler.fit_transform(X_train)\n",
    "X_test_scaled = scaler.transform(X_test)\n",
    "\n",
    "# Tune KNN with GridSearchCV\n",
    "param_grid = {\n",
    "    'n_neighbors': list(range(3, 21, 2)),\n",
    "    'weights': ['uniform', 'distance']\n",
    "}\n",
    "grid = GridSearchCV(KNeighborsClassifier(), param_grid, cv=5, scoring='f1', n_jobs=-1)\n",
    "grid.fit(X_train_scaled, y_train)\n",
    "best_knn = grid.best_estimator_\n",
    "\n",
    "# Predictions\n",
    "y_pred = best_knn.predict(X_test_scaled)\n",
    "df_test[\"Predicted_Shutdown\"] = y_pred\n",
    "shutdown_df = df_test[df_test[\"Predicted_Shutdown\"] == 1]\n",
    "\n",
    "# Save results\n",
    "shutdown_df.to_csv(\"predicted_atms_to_shutdown.csv\", index=False)\n",
    "report = classification_report(y_test, y_pred, output_dict=True)\n",
    "report_df = pd.DataFrame(report).transpose()\n",
    "report_df.to_csv(\"knn_classification_report.csv\")\n",
    "\n",
    "# Create Folium map of shutdown ATMs\n",
    "m = folium.Map(location=[18.5204, 73.8567], zoom_start=11)\n",
    "marker_cluster = MarkerCluster().add_to(m)\n",
    "\n",
    "for _, row in shutdown_df.iterrows():\n",
    "    folium.Marker(\n",
    "        location=[row[\"Latitude\"], row[\"Longitude\"]],\n",
    "        popup=f\"<b>{row['ATM_ID']}</b><br>{row['Location']}<br>Txns: {row['Monthly_Transactions']}\",\n",
    "        icon=folium.Icon(color='red', icon='times-circle', prefix='fa')\n",
    "    ).add_to(marker_cluster)\n",
    "\n",
    "m.save(\"atm_shutdown_map.html\")\n",
    "\n",
    "print(\"Done. Files created:\")\n",
    "print(\"- predicted_atms_to_shutdown.csv\")\n",
    "print(\"- knn_classification_report.csv\")\n",
    "print(\"- atm_shutdown_map.html\")\n"
   ]
  },
  {
   "cell_type": "code",
   "execution_count": null,
   "id": "5f737290-47d7-4ffd-9a15-b1d9327cd8f9",
   "metadata": {},
   "outputs": [],
   "source": []
  }
 ],
 "metadata": {
  "kernelspec": {
   "display_name": "anaconda-2024.02-py310",
   "language": "python",
   "name": "conda-env-anaconda-2024.02-py310-py"
  },
  "language_info": {
   "codemirror_mode": {
    "name": "ipython",
    "version": 3
   },
   "file_extension": ".py",
   "mimetype": "text/x-python",
   "name": "python",
   "nbconvert_exporter": "python",
   "pygments_lexer": "ipython3",
   "version": "3.10.14"
  }
 },
 "nbformat": 4,
 "nbformat_minor": 5
}
